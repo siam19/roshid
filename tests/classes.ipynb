{
 "cells": [
  {
   "cell_type": "code",
   "execution_count": 86,
   "metadata": {},
   "outputs": [],
   "source": [
    "from typing import Optional\n",
    "\n",
    "class RoshidError(Exception):\n",
    "    #base error class for any errors inside of roshid\n",
    "    pass\n",
    "\n",
    "class RoshidAttributeError(RoshidError):\n",
    "    def __init__(self, message):\n",
    "        super().__init__(message)\n"
   ]
  },
  {
   "cell_type": "code",
   "execution_count": 82,
   "metadata": {},
   "outputs": [],
   "source": [
    "from pydantic import BaseModel, ValidationError\n",
    "from typing import Literal, Optional\n",
    "\n",
    "class Attribute(BaseModel):\n",
    "    attribute_name: str\n",
    "    datatype: Literal['string', 'number', 'boolean']  # Restrict to specific values\n",
    "    description: Optional[str] = None  # Description is optional\n",
    "\n"
   ]
  },
  {
   "cell_type": "code",
   "execution_count": 105,
   "metadata": {},
   "outputs": [],
   "source": [
    "import json\n",
    "\n",
    "class CustomerConfig:\n",
    "    def __init__(self) -> None:\n",
    "        self.attributes: set[Attribute] = []\n",
    "        self.attributes.append(Attribute(attribute_name=\"Name\", datatype=\"string\", description=\"Name of the customer\"))\n",
    "        self.attributes.append(Attribute(attribute_name=\"Address\", datatype=\"string\", description=\"The delivery address mentioned by the customer\"))\n",
    "        self.attributes.append(Attribute(attribute_name=\"Phone\", datatype=\"string\", description=\"Phone number mentioned by the customer in the format: '01X XXXX XXXX'\"))\n",
    "\n",
    "    def generate_description(self) -> str:\n",
    "        attribute_descriptions = [\n",
    "            f\"{attr.attribute_name} ({attr.datatype}): {attr.description or 'No description provided'}\"\n",
    "            for attr in self.attributes\n",
    "        ]\n",
    "        return f\"Extract {', '.join(attribute_descriptions)} from the text:\"\n",
    "    \n",
    "    def add_attribute(self, name:str, datatype: str, description: str):\n",
    "        '''\n",
    "        attribute_name: str = Name of the attribute (e.g 'Email', 'Secondary Contact')\\n\\n\n",
    "        datatype: str ='string', 'number' or 'boolean'\\n\\n\n",
    "        description: str = Description of the attribute for the LLM to accurately locate and extract the attribute\n",
    "        '''\n",
    "        try:\n",
    "            if name.lower() in [attr.attribute_name.lower() for attr in self.attributes]: # checks if the attribute name already exists\n",
    "                raise RoshidAttributeError(\"Attribute name already exists. Choose a different name.\")\n",
    "            else:\n",
    "                self.attributes.append(Attribute(attribute_name=name, datatype=datatype, description=description))\n",
    "\n",
    "        except ValidationError as e:\n",
    "            print(\"Something went wrong when creating Attrbute.\")\n",
    "            print(e)\n",
    "\n",
    "    def expected_json(self) -> str:\n",
    "        \"\"\"\n",
    "        Returns a JSON schema that defines the structure of the expected output from the LLM.\n",
    "        \"\"\"\n",
    "        schema = {}\n",
    "\n",
    "        for attr in self.attributes:\n",
    "            schema[attr.attribute_name] = {\n",
    "                \"type\": attr.datatype,\n",
    "                \"description\": attr.description,\n",
    "                \"value\": \"\"\n",
    "            }\n",
    "\n",
    "        return json.dumps(schema)"
   ]
  },
  {
   "cell_type": "code",
   "execution_count": 106,
   "metadata": {},
   "outputs": [],
   "source": [
    "cust1 = CustomerConfig()\n",
    "cust1.add_attribute(\"Email\", \"string\", \"The email of the user\")\n",
    "cust1.add_attribute(\"is_purni\", \"boolean\", \"Checks if the users name is Purnima or anythis starting with the letter 'P'\")\n",
    "cust1.add_attribute(\"is_roy\", \"boolean\", \"Checks if the users name is roy\")\n",
    "cust1.add_attribute(\"product_count\", \"number\", \"Number of products ordered\")\n",
    "cust1.add_attribute(\"notes\", \"string\", \"If the customer mentions any note about the delivery, otherwise keep it empty.\")"
   ]
  },
  {
   "cell_type": "code",
   "execution_count": 107,
   "metadata": {},
   "outputs": [
    {
     "data": {
      "text/plain": [
       "'{\"Name\": {\"type\": \"string\", \"description\": \"Name of the customer\", \"value\": \"\"}, \"Address\": {\"type\": \"string\", \"description\": \"The delivery address mentioned by the customer\", \"value\": \"\"}, \"Phone\": {\"type\": \"string\", \"description\": \"Phone number mentioned by the customer in the format: \\'01X XXXX XXXX\\'\", \"value\": \"\"}, \"Email\": {\"type\": \"string\", \"description\": \"The email of the user\", \"value\": \"\"}, \"is_purni\": {\"type\": \"boolean\", \"description\": \"Checks if the users name is Purnima or anythis starting with the letter \\'P\\'\", \"value\": \"\"}, \"is_roy\": {\"type\": \"boolean\", \"description\": \"Checks if the users name is roy\", \"value\": \"\"}, \"product_count\": {\"type\": \"number\", \"description\": \"Number of products ordered\", \"value\": \"\"}, \"notes\": {\"type\": \"string\", \"description\": \"If the customer mentions any note about the delivery, otherwise keep it empty.\", \"value\": \"\"}}'"
      ]
     },
     "execution_count": 107,
     "metadata": {},
     "output_type": "execute_result"
    }
   ],
   "source": [
    "cust1.generate_description()\n",
    "cust1.expected_json()"
   ]
  },
  {
   "cell_type": "code",
   "execution_count": 91,
   "metadata": {},
   "outputs": [
    {
     "data": {
      "text/plain": [
       "'139PMO @OEBO - will all BG)\\n\\n< Gi Uptown Panam & On D\\n\\nBusiness chat + uptow...\\n\\n=\\n\\nYou replied\\n\\nHow long would would take to deliver?\\n\\nCan | know your location?\\n\\n25 May 2021\\n\\n- Bashundhara r/a\\n25 May 2021\\n\\nI’m very curious to know why are\\nyou called bonbilai!\\n\\nFarhana Bilby\\n\\n01312221018\\nhossain.farhanah@gmail.com\\nHouse 11, road 333, block J,\\nBashundhara r/a\\n\\n1x BTV F-shirt in L\\n\\n1x Gulistan circuit house tee in M\\n\\n- Please\\n\\n~\\n\\n- What is your payment system?\\n\\n©) vessave.. O A) ) @)\\n'"
      ]
     },
     "execution_count": 91,
     "metadata": {},
     "output_type": "execute_result"
    }
   ],
   "source": [
    "from PIL import Image\n",
    "import pytesseract\n",
    "\n",
    "img = Image.open(\"../0.0/ss5.jpg\")\n",
    "pytesseract.image_to_string(img)"
   ]
  },
  {
   "cell_type": "code",
   "execution_count": 93,
   "metadata": {},
   "outputs": [
    {
     "data": {
      "text/plain": [
       "'{\\n  \"properties\": {\\n    \"attribute_name\": {\\n      \"title\": \"Attribute Name\",\\n      \"type\": \"string\"\\n    },\\n    \"datatype\": {\\n      \"enum\": [\\n        \"string\",\\n        \"number\",\\n        \"boolean\"\\n      ],\\n      \"title\": \"Datatype\",\\n      \"type\": \"string\"\\n    },\\n    \"description\": {\\n      \"anyOf\": [\\n        {\\n          \"type\": \"string\"\\n        },\\n        {\\n          \"type\": \"null\"\\n        }\\n      ],\\n      \"default\": null,\\n      \"title\": \"Description\"\\n    }\\n  },\\n  \"required\": [\\n    \"attribute_name\",\\n    \"datatype\"\\n  ],\\n  \"title\": \"Attribute\",\\n  \"type\": \"object\"\\n}'"
      ]
     },
     "execution_count": 93,
     "metadata": {},
     "output_type": "execute_result"
    }
   ],
   "source": [
    "GROQ_API_KEY=\"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\""
   ]
  },
  {
   "cell_type": "code",
   "execution_count": 94,
   "metadata": {},
   "outputs": [
    {
     "data": {
      "text/plain": [
       "'{\"reciepient_name\": \"name of reciepient (str)\", \"reciepient_address\": \"address of reciepient (str)\", \"reciepient_phone\": \"reciepients phone number in the format 01X-XXXX-XXXX (str)\", \"items_ordered\": \"number of products the customer orderd\", \"is_roy\": \"customer has the surname \\'Roy\\' (boolean)\"}'"
      ]
     },
     "execution_count": 94,
     "metadata": {},
     "output_type": "execute_result"
    }
   ],
   "source": [
    "import json\n",
    "dummy_json_schema = {\n",
    "    \"reciepient_name\": \"name of reciepient (str)\",\n",
    "    \"reciepient_address\": \"address of reciepient (str)\",\n",
    "    \"reciepient_phone\": \"reciepients phone number in the format 01X-XXXX-XXXX (str)\",\n",
    "    \"items_ordered\": \"number of products the customer orderd\",\n",
    "    \"is_roy\": \"customer has the surname 'Roy' (boolean)\"\n",
    "}\n",
    "\n"
   ]
  },
  {
   "cell_type": "code",
   "execution_count": null,
   "metadata": {},
   "outputs": [],
   "source": [
    "%a, %b %-d - %-I:%M %p"
   ]
  }
 ],
 "metadata": {
  "kernelspec": {
   "display_name": "venv",
   "language": "python",
   "name": "python3"
  },
  "language_info": {
   "codemirror_mode": {
    "name": "ipython",
    "version": 3
   },
   "file_extension": ".py",
   "mimetype": "text/x-python",
   "name": "python",
   "nbconvert_exporter": "python",
   "pygments_lexer": "ipython3",
   "version": "3.11.9"
  }
 },
 "nbformat": 4,
 "nbformat_minor": 2
}
